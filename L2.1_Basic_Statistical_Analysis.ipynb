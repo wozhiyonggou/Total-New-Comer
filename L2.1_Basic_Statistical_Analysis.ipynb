{
 "cells": [
  {
   "cell_type": "markdown",
   "metadata": {},
   "source": [
    "# Basic Statistical Analysis\n",
    "\n",
    "What follows is a quick introduction or review to basic statistical analysis, along with how to do them in Python (though there are many variations).\n",
    "\n",
    "Let's make some random data and consider the following\n",
    "* Central Tendency\n",
    "* Distributions and Variation\n",
    "* Joint Variation"
   ]
  },
  {
   "cell_type": "markdown",
   "metadata": {},
   "source": [
    "## Let's make some data"
   ]
  },
  {
   "cell_type": "code",
   "execution_count": 6,
   "metadata": {},
   "outputs": [
    {
     "ename": "ModuleNotFoundError",
     "evalue": "No module named 'matplotlib'",
     "output_type": "error",
     "traceback": [
      "\u001b[1;31m---------------------------------------------------------------------------\u001b[0m",
      "\u001b[1;31mModuleNotFoundError\u001b[0m                       Traceback (most recent call last)",
      "\u001b[1;32m<ipython-input-6-cb311987884e>\u001b[0m in \u001b[0;36m<module>\u001b[1;34m\u001b[0m\n\u001b[1;32m----> 1\u001b[1;33m \u001b[1;32mimport\u001b[0m \u001b[0mmatplotlib\u001b[0m\u001b[1;33m.\u001b[0m\u001b[0mpyplot\u001b[0m \u001b[1;32mas\u001b[0m \u001b[0mplt\u001b[0m\u001b[1;33m\u001b[0m\u001b[1;33m\u001b[0m\u001b[0m\n\u001b[0m\u001b[0;32m      2\u001b[0m \u001b[1;32mimport\u001b[0m \u001b[0mnumpy\u001b[0m \u001b[1;32mas\u001b[0m \u001b[0mnp\u001b[0m\u001b[1;33m\u001b[0m\u001b[1;33m\u001b[0m\u001b[0m\n\u001b[0;32m      3\u001b[0m \u001b[1;32mimport\u001b[0m \u001b[0mpandas\u001b[0m \u001b[1;32mas\u001b[0m \u001b[0mpd\u001b[0m\u001b[1;33m\u001b[0m\u001b[1;33m\u001b[0m\u001b[0m\n\u001b[0;32m      4\u001b[0m \u001b[1;33m\u001b[0m\u001b[0m\n\u001b[0;32m      5\u001b[0m \u001b[1;31m# scipy has a number of stats based tools\u001b[0m\u001b[1;33m\u001b[0m\u001b[1;33m\u001b[0m\u001b[1;33m\u001b[0m\u001b[0m\n",
      "\u001b[1;31mModuleNotFoundError\u001b[0m: No module named 'matplotlib'"
     ]
    }
   ],
   "source": [
    "import matplotlib.pyplot as plt\n",
    "import numpy as np\n",
    "import pandas as pd\n",
    "\n",
    "# scipy has a number of stats based tools\n",
    "from scipy import stats\n",
    "from scipy.stats import norm\n",
    "\n",
    "# this is python's own statistics library\n",
    "from statistics import *"
   ]
  },
  {
   "cell_type": "code",
   "execution_count": 11,
   "metadata": {
    "scrolled": true
   },
   "outputs": [
    {
     "ename": "NameError",
     "evalue": "name 'norm' is not defined",
     "output_type": "error",
     "traceback": [
      "\u001b[1;31m---------------------------------------------------------------------------\u001b[0m",
      "\u001b[1;31mNameError\u001b[0m                                 Traceback (most recent call last)",
      "\u001b[1;32m<ipython-input-11-1e714d5df5fb>\u001b[0m in \u001b[0;36m<module>\u001b[1;34m\u001b[0m\n\u001b[0;32m      1\u001b[0m \u001b[1;31m# Let's make some random data... we'll work with the same \"normal\" distribution\u001b[0m\u001b[1;33m\u001b[0m\u001b[1;33m\u001b[0m\u001b[1;33m\u001b[0m\u001b[0m\n\u001b[0;32m      2\u001b[0m \u001b[1;33m\u001b[0m\u001b[0m\n\u001b[1;32m----> 3\u001b[1;33m \u001b[0mmy_random_data\u001b[0m \u001b[1;33m=\u001b[0m \u001b[0mnorm\u001b[0m\u001b[1;33m.\u001b[0m\u001b[0mrvs\u001b[0m\u001b[1;33m(\u001b[0m\u001b[1;36m0.0\u001b[0m\u001b[1;33m,\u001b[0m \u001b[1;36m2.5\u001b[0m\u001b[1;33m,\u001b[0m \u001b[0msize\u001b[0m\u001b[1;33m=\u001b[0m\u001b[1;36m1000000\u001b[0m\u001b[1;33m)\u001b[0m\u001b[1;33m\u001b[0m\u001b[1;33m\u001b[0m\u001b[0m\n\u001b[0m\u001b[0;32m      4\u001b[0m \u001b[1;33m\u001b[0m\u001b[0m\n\u001b[0;32m      5\u001b[0m \u001b[1;31m# let's make a pandas Series from our data as well for later.\u001b[0m\u001b[1;33m\u001b[0m\u001b[1;33m\u001b[0m\u001b[1;33m\u001b[0m\u001b[0m\n",
      "\u001b[1;31mNameError\u001b[0m: name 'norm' is not defined"
     ]
    }
   ],
   "source": [
    "# Let's make some random data... we'll work with the same \"normal\" distribution\n",
    "\n",
    "my_random_data = norm.rvs(0.0, 2.5, size=1000000)\n",
    "\n",
    "# let's make a pandas Series from our data as well for later.\n",
    "\n",
    "my_random_series = pd.Series(my_random_data)"
   ]
  },
  {
   "cell_type": "code",
   "execution_count": 7,
   "metadata": {},
   "outputs": [
    {
     "ename": "NameError",
     "evalue": "name 'my_random_data' is not defined",
     "output_type": "error",
     "traceback": [
      "\u001b[1;31m---------------------------------------------------------------------------\u001b[0m",
      "\u001b[1;31mNameError\u001b[0m                                 Traceback (most recent call last)",
      "\u001b[1;32m<ipython-input-7-f02b5fd84f6a>\u001b[0m in \u001b[0;36m<module>\u001b[1;34m\u001b[0m\n\u001b[0;32m      1\u001b[0m \u001b[1;31m#print(my_random_data)\u001b[0m\u001b[1;33m\u001b[0m\u001b[1;33m\u001b[0m\u001b[1;33m\u001b[0m\u001b[0m\n\u001b[1;32m----> 2\u001b[1;33m \u001b[0mprint\u001b[0m\u001b[1;33m(\u001b[0m\u001b[1;34m\"\\nLength of our data: {}\"\u001b[0m\u001b[1;33m.\u001b[0m\u001b[0mformat\u001b[0m\u001b[1;33m(\u001b[0m\u001b[0mlen\u001b[0m\u001b[1;33m(\u001b[0m\u001b[0mmy_random_data\u001b[0m\u001b[1;33m)\u001b[0m\u001b[1;33m)\u001b[0m\u001b[1;33m)\u001b[0m\u001b[1;33m\u001b[0m\u001b[1;33m\u001b[0m\u001b[0m\n\u001b[0m\u001b[0;32m      3\u001b[0m \u001b[0mprint\u001b[0m\u001b[1;33m(\u001b[0m\u001b[1;34m\"\\nType: {}\"\u001b[0m\u001b[1;33m.\u001b[0m\u001b[0mformat\u001b[0m\u001b[1;33m(\u001b[0m\u001b[0mtype\u001b[0m\u001b[1;33m(\u001b[0m\u001b[0mmy_random_data\u001b[0m\u001b[1;33m)\u001b[0m\u001b[1;33m)\u001b[0m\u001b[1;33m)\u001b[0m\u001b[1;33m\u001b[0m\u001b[1;33m\u001b[0m\u001b[0m\n",
      "\u001b[1;31mNameError\u001b[0m: name 'my_random_data' is not defined"
     ]
    }
   ],
   "source": [
    "#print(my_random_data)\n",
    "print(\"\\nLength of our data: {}\".format(len(my_random_data)))\n",
    "print(\"\\nType: {}\".format(type(my_random_data)))"
   ]
  },
  {
   "cell_type": "code",
   "execution_count": null,
   "metadata": {},
   "outputs": [],
   "source": [
    "my_random_series.head()"
   ]
  },
  {
   "cell_type": "markdown",
   "metadata": {},
   "source": [
    "## Central Tendency\n",
    "\n",
    "Measures of \"Central Tendency\" are measures of the center point or \"typical value\" of a distribution of values."
   ]
  },
  {
   "cell_type": "markdown",
   "metadata": {},
   "source": [
    "### Mean\n",
    "\n",
    "The Arithmetic mean (or average) of a population $A$ of $n$ variables $a_i$ is defined as: \n",
    "$${A = \\frac{1}{n} \\sum_{i=1}^n{a_i}}$$ "
   ]
  },
  {
   "cell_type": "code",
   "execution_count": null,
   "metadata": {},
   "outputs": [],
   "source": [
    "# from statistics\n",
    "mean(my_random_data)"
   ]
  },
  {
   "cell_type": "code",
   "execution_count": null,
   "metadata": {},
   "outputs": [],
   "source": [
    "# mean in numpy\n",
    "my_random_data.mean()"
   ]
  },
  {
   "cell_type": "code",
   "execution_count": null,
   "metadata": {},
   "outputs": [],
   "source": [
    "# from our Pandas series\n",
    "my_random_series.mean()"
   ]
  },
  {
   "cell_type": "code",
   "execution_count": null,
   "metadata": {},
   "outputs": [],
   "source": [
    "data = np.array([1, 2, 3, 4, 5, 6])"
   ]
  },
  {
   "cell_type": "code",
   "execution_count": null,
   "metadata": {},
   "outputs": [],
   "source": [
    "data.mean()"
   ]
  },
  {
   "cell_type": "code",
   "execution_count": null,
   "metadata": {},
   "outputs": [],
   "source": [
    "%timeit mean(my_random_data)"
   ]
  },
  {
   "cell_type": "code",
   "execution_count": null,
   "metadata": {},
   "outputs": [],
   "source": [
    "%timeit my_random_data.mean()"
   ]
  },
  {
   "cell_type": "code",
   "execution_count": null,
   "metadata": {},
   "outputs": [],
   "source": [
    "%timeit my_random_series.mean()"
   ]
  },
  {
   "cell_type": "markdown",
   "metadata": {},
   "source": [
    "### Median\n",
    "\n",
    "Median is the midpoint value of a population. Given a set $N = { 1, 2, 4, 6, 7, 9, 20 }$, the median $M = 6$."
   ]
  },
  {
   "cell_type": "code",
   "execution_count": null,
   "metadata": {},
   "outputs": [],
   "source": [
    "arr = np.asarray((500000, 2, 4, 6, 7, 9, 1))"
   ]
  },
  {
   "cell_type": "code",
   "execution_count": null,
   "metadata": {},
   "outputs": [],
   "source": [
    "type((500000, 2, 4, 6, 7, 9, 1))"
   ]
  },
  {
   "cell_type": "code",
   "execution_count": null,
   "metadata": {},
   "outputs": [],
   "source": [
    "# median from native python statistics package:\n",
    "median(arr)"
   ]
  },
  {
   "cell_type": "code",
   "execution_count": null,
   "metadata": {},
   "outputs": [],
   "source": [
    "# in python\n",
    "np.median(arr)"
   ]
  },
  {
   "cell_type": "code",
   "execution_count": null,
   "metadata": {},
   "outputs": [],
   "source": [
    "# with our data\n",
    "np.median(my_random_data)"
   ]
  },
  {
   "cell_type": "code",
   "execution_count": null,
   "metadata": {},
   "outputs": [],
   "source": [
    "# median in pandas\n",
    "my_random_series.median()"
   ]
  },
  {
   "cell_type": "markdown",
   "metadata": {},
   "source": [
    "### Mode\n",
    "\n",
    "Mode is the value that occurs the most frequently. Given a set $N = { 1, 2, 2, 6, 6, 9, 9, 9, 18, 18, 20 }$, the mode $M = 9$."
   ]
  },
  {
   "cell_type": "code",
   "execution_count": null,
   "metadata": {},
   "outputs": [],
   "source": [
    "# mode from the statistics package\n",
    "a = np.asarray((1, 2, 2, 6, 6, 9, 9, 9, 18, 18, 20))\n",
    "mode(a)"
   ]
  },
  {
   "cell_type": "code",
   "execution_count": null,
   "metadata": {},
   "outputs": [],
   "source": [
    "# our data doesn't have a mode since we have made all values equally likely so we won't test these, but the functions are available."
   ]
  },
  {
   "cell_type": "markdown",
   "metadata": {},
   "source": [
    "## Variation"
   ]
  },
  {
   "cell_type": "markdown",
   "metadata": {},
   "source": [
    "### Distributions\n",
    "\n",
    "Definition: A __distribution__ is a function that describes the probability of different outcomes of an experiment.  The graph below describes frequency of various values occurring, given in values from the most central values (mean).\n",
    "\n",
    "<div style=\"text-align:center\"><img src=\"images/normaldist.png\"></div>\n",
    "\n",
    "In this chart, the mean value is 0. In the case of the normal distribution as here, 0 is also the most frequent value. You can see the probabilities of occurance drop as you get farther from the mean.\n"
   ]
  },
  {
   "cell_type": "code",
   "execution_count": 1,
   "metadata": {},
   "outputs": [
    {
     "ename": "NameError",
     "evalue": "name 'norm' is not defined",
     "output_type": "error",
     "traceback": [
      "\u001b[1;31m---------------------------------------------------------------------------\u001b[0m",
      "\u001b[1;31mNameError\u001b[0m                                 Traceback (most recent call last)",
      "\u001b[1;32m<ipython-input-1-d2daa96c5606>\u001b[0m in \u001b[0;36m<module>\u001b[1;34m\u001b[0m\n\u001b[0;32m      1\u001b[0m \u001b[1;31m# Let's fit a normal distribution to our data\u001b[0m\u001b[1;33m\u001b[0m\u001b[1;33m\u001b[0m\u001b[1;33m\u001b[0m\u001b[0m\n\u001b[1;32m----> 2\u001b[1;33m \u001b[0mmu\u001b[0m\u001b[1;33m,\u001b[0m \u001b[0mstd\u001b[0m \u001b[1;33m=\u001b[0m \u001b[0mnorm\u001b[0m\u001b[1;33m.\u001b[0m\u001b[0mfit\u001b[0m\u001b[1;33m(\u001b[0m\u001b[0mmy_random_data\u001b[0m\u001b[1;33m)\u001b[0m\u001b[1;33m\u001b[0m\u001b[1;33m\u001b[0m\u001b[0m\n\u001b[0m\u001b[0;32m      3\u001b[0m \u001b[1;33m\u001b[0m\u001b[0m\n\u001b[0;32m      4\u001b[0m \u001b[0mfig\u001b[0m\u001b[1;33m,\u001b[0m \u001b[0max\u001b[0m \u001b[1;33m=\u001b[0m \u001b[0mplt\u001b[0m\u001b[1;33m.\u001b[0m\u001b[0msubplots\u001b[0m\u001b[1;33m(\u001b[0m\u001b[1;36m1\u001b[0m\u001b[1;33m,\u001b[0m \u001b[1;36m1\u001b[0m\u001b[1;33m,\u001b[0m \u001b[0mfigsize\u001b[0m\u001b[1;33m=\u001b[0m\u001b[1;33m(\u001b[0m\u001b[1;36m10\u001b[0m\u001b[1;33m,\u001b[0m \u001b[1;36m5\u001b[0m\u001b[1;33m)\u001b[0m\u001b[1;33m)\u001b[0m\u001b[1;33m\u001b[0m\u001b[1;33m\u001b[0m\u001b[0m\n\u001b[0;32m      5\u001b[0m \u001b[1;33m\u001b[0m\u001b[0m\n",
      "\u001b[1;31mNameError\u001b[0m: name 'norm' is not defined"
     ]
    }
   ],
   "source": [
    "# Let's fit a normal distribution to our data\n",
    "mu, std = norm.fit(my_random_data)\n",
    "\n",
    "fig, ax = plt.subplots(1, 1, figsize=(10, 5))\n",
    "\n",
    "# plot our data\n",
    "ax.hist(my_random_data, bins=50, density=True, alpha=0.6, color='blue')\n",
    "\n",
    "# plot the PDF\n",
    "xmin, xmax = plt.xlim()\n",
    "x = np.linspace(xmin, xmax, 100)\n",
    "p = norm.pdf(x, mu, std)\n",
    "ax.plot(x, p, 'k', linewidth=2)\n",
    "\n",
    "plt.title(\"Normal Distribution - Fit Results: mu = {:.2f},  std = {:.2f}\".format(mu, std))\n",
    "plt.show()"
   ]
  },
  {
   "cell_type": "code",
   "execution_count": null,
   "metadata": {},
   "outputs": [],
   "source": [
    "# you can also do this in Pandas\n",
    "my_random_series.hist(bins=25, density=True, figsize=(10, 5))"
   ]
  },
  {
   "cell_type": "markdown",
   "metadata": {},
   "source": [
    "### Variance\n",
    "\n",
    "Variance, denoted by $Var(X)$ or $\\sigma^2$ is a measure of how far away the values in a population are from the mean:\n",
    "\n",
    "$${Var(X) = \\frac{1}{n} \\sum_{i=1}^n{(x_i-\\mu)^2}}$$ "
   ]
  },
  {
   "cell_type": "code",
   "execution_count": null,
   "metadata": {},
   "outputs": [],
   "source": [
    "# statistics\n",
    "variance(my_random_data)"
   ]
  },
  {
   "cell_type": "code",
   "execution_count": null,
   "metadata": {},
   "outputs": [],
   "source": [
    "# pandas\n",
    "my_random_series.var()"
   ]
  },
  {
   "cell_type": "code",
   "execution_count": null,
   "metadata": {},
   "outputs": [],
   "source": [
    "# numpy\n",
    "my_random_data.var()"
   ]
  },
  {
   "cell_type": "markdown",
   "metadata": {},
   "source": [
    "Wait. What? numpy is different!  Why?? Without going too deep into the statistics, there is a concept of \"degrees of freedom\". Degrees of freedom (ddof) = 1 is used to provide an unbiased estimator of the theoretical population. ddof = 0 is the estimator for the variance of the random variables. \n",
    "\n",
    "Numpy uses ddof = 0 by default. You can tell it to use ddof = 1 instead. This defines the **sample** variance as:\n",
    "\n",
    "$${Var(X) = \\frac{1}{n-1} \\sum_{i=1}^n{(x_i-\\bar{x})^2}}$$ \n",
    "\n",
    "Note the difference in the \"mean\"; the population variance $\\sigma$ uses the \"true\" mean $\\mu$.  The sample variance uses the sample average $\\bar{x}$."
   ]
  },
  {
   "cell_type": "code",
   "execution_count": null,
   "metadata": {},
   "outputs": [],
   "source": [
    "my_random_data.var(ddof=1)"
   ]
  },
  {
   "cell_type": "markdown",
   "metadata": {},
   "source": [
    "### Standard Deviation\n",
    "\n",
    "The **population** standard deviation, denoted by $\\sigma$ is the square root of the variance:\n",
    "\n",
    "$$\\sigma = \\sqrt{{\\frac{1}{n} \\sum_{i=1}^n{(x_i-\\mu)^2}}}$$ \n",
    "\n",
    "If we use ddof=1 then we get the **sample** standard deviation $s$:\n",
    "\n",
    "$$s = \\sqrt{{\\frac{1}{n-1} \\sum_{i=1}^n{(x_i-\\bar{x})^2}}}$$ "
   ]
  },
  {
   "cell_type": "code",
   "execution_count": null,
   "metadata": {},
   "outputs": [],
   "source": [
    "# standard deviation\n",
    "stdev(my_random_data)"
   ]
  },
  {
   "cell_type": "code",
   "execution_count": null,
   "metadata": {},
   "outputs": [],
   "source": [
    "# numpy\n",
    "my_random_data.std(ddof=1)"
   ]
  },
  {
   "cell_type": "code",
   "execution_count": null,
   "metadata": {},
   "outputs": [],
   "source": [
    "# pandas\n",
    "my_random_series.std()"
   ]
  },
  {
   "cell_type": "markdown",
   "metadata": {},
   "source": [
    "### The Intuition of Standard Deviation and Variance\n",
    "\n",
    "So what does it mean that a population of data has a larger standard deviation than another? \n",
    "\n",
    "Let's create two data sets with the same mean but different standard deviations."
   ]
  },
  {
   "cell_type": "code",
   "execution_count": null,
   "metadata": {},
   "outputs": [],
   "source": [
    "small_std = pd.Series(norm.rvs(2.0, 2.5, size=10000))\n",
    "large_std = pd.Series(norm.rvs(10.0, 12.0, size=10000))\n",
    "\n",
    "fig, (ax1, ax2) = plt.subplots(1,2, figsize=(16,6))\n",
    "       \n",
    "small_std.plot(kind=\"hist\", ax=ax1, bins=25, title=\"$\\sigma$ = 2.5\", xlim=(-40,40), alpha=0.2)\n",
    "large_std.plot(kind=\"hist\", ax=ax2, bins=25, title=\"$\\sigma$ = 6\", xlim=(-40,40), alpha=0.7)\n",
    "\n",
    "fig.suptitle(\"Comparing two distributions with the same mean and different $\\sigma$\", fontsize=\"20\")\n",
    "plt.show()"
   ]
  },
  {
   "cell_type": "markdown",
   "metadata": {},
   "source": [
    "## Joint Variability\n",
    "\n",
    "Very often we want to be able to see how values change together, jointly. We'll call these measures of __joint variability__."
   ]
  },
  {
   "cell_type": "markdown",
   "metadata": {},
   "source": [
    "### Covariance and Correlation\n",
    "\n",
    "__Covariance__ indicates the __direction__ of the linear relationship between variables. \n",
    "\n",
    "__Correlation__ on the other hand measures both the __strength__ and __direction__ of the linear relationship between two variables."
   ]
  },
  {
   "cell_type": "code",
   "execution_count": null,
   "metadata": {},
   "outputs": [],
   "source": [
    "# statsmodels\n",
    "import statsmodels.api as sm\n",
    "\n",
    "# let's get our copper data from last week\n",
    "copper = sm.datasets.copper.load_pandas().data\n",
    "years = np.arange(1951, 1976)\n",
    "copper.index = years"
   ]
  },
  {
   "cell_type": "code",
   "execution_count": null,
   "metadata": {},
   "outputs": [],
   "source": [
    "copper.head()"
   ]
  },
  {
   "cell_type": "code",
   "execution_count": null,
   "metadata": {},
   "outputs": [],
   "source": [
    "# let's plot some of this data to see what it looks like\n",
    "\n",
    "_ = copper[['WORLDCONSUMPTION', 'COPPERPRICE', 'ALUMPRICE', 'INCOMEINDEX']].plot(subplots=True)"
   ]
  },
  {
   "cell_type": "code",
   "execution_count": null,
   "metadata": {},
   "outputs": [],
   "source": [
    "# hmm that's not very readable. Let's split it.\n",
    "\n",
    "fig, (ax1, ax2, ax3) = plt.subplots(1, 3, figsize=(16,5))\n",
    "copper['WORLDCONSUMPTION'].plot(ax=ax1, title=\"World Consumption\")\n",
    "copper[['INCOMEINDEX']].plot(ax=ax2, title=\"Income\")\n",
    "copper[['COPPERPRICE', 'ALUMPRICE']].plot(ax=ax3, title=\"Prices\")"
   ]
  },
  {
   "cell_type": "markdown",
   "metadata": {},
   "source": [
    "Some of these look like they might move together, though some of them less so. We can use __covariance__ and __correlation__ to quantify these relationships.\n",
    "\n",
    "#### Covariance\n",
    "\n",
    "__Population Covariance__\n",
    "\n",
    "$$Cov(X,Y) = \\frac{1}{n}\\sum_{i=1}^n{(x_i - \\mu_x)(y_i - \\mu_y)}$$\n",
    "\n",
    "__Sample Covariance__\n",
    "\n",
    "$$q_{x,y} = \\frac{1}{n-1}\\sum_{i=1}^n{(x_i - \\bar{x})(y_i - \\bar{y})}$$\n",
    "\n",
    "__Population Correlation__\n",
    "\n",
    "$$Corr(X,Y) = \\frac{Cov(X,Y)}{\\sigma_X\\sigma_Y}$$\n",
    "\n",
    "__Sample Correlation__\n",
    "\n",
    "$$r(X,Y) = \\frac{\\frac{1}{n-1}\\sum_{i=1}^n{(x_i - \\bar{x})(y_i - \\bar{y})}}{s_xs_y}$$"
   ]
  },
  {
   "cell_type": "markdown",
   "metadata": {},
   "source": [
    "Let's first look at the covariance and correlation of our data, starting with WORLDCONSUMPTION and INCOMEINDEX which look like they move together:"
   ]
  },
  {
   "cell_type": "code",
   "execution_count": null,
   "metadata": {},
   "outputs": [],
   "source": [
    "# in pandas, you calculate the covariance buy calling Series1.corr(Series2)\n",
    "print(\"Covariance of WORLDCONSUMPTION and INCOMEINDEX: {}\".format(copper.WORLDCONSUMPTION.cov(copper.INCOMEINDEX)))\n",
    "print(\"Correlation of WORLDCONSUMPTION and INCOMEINDEX: {}\".format(copper.WORLDCONSUMPTION.corr(copper.INCOMEINDEX)))"
   ]
  },
  {
   "cell_type": "markdown",
   "metadata": {},
   "source": [
    "Those seem very highly correlated!  Let's look at some other examples."
   ]
  },
  {
   "cell_type": "code",
   "execution_count": null,
   "metadata": {},
   "outputs": [],
   "source": [
    "print(\"Covariance of COPPERPRICE and ALUMPRICE: {}\".format(copper.COPPERPRICE.cov(copper.ALUMPRICE)))\n",
    "print(\"Correlation of COPPERPRICE and ALUMPRICE: {}\".format(copper.COPPERPRICE.corr(copper.ALUMPRICE)))"
   ]
  },
  {
   "cell_type": "code",
   "execution_count": null,
   "metadata": {},
   "outputs": [],
   "source": [
    "print(\"Covariance of COPPERPRICE and ALUMPRICE: {}\".format(copper.COPPERPRICE.cov(copper.ALUMPRICE)))\n",
    "print(\"Correlation of COPPERPRICE and ALUMPRICE: {}\".format(copper.COPPERPRICE.corr(copper.ALUMPRICE)))"
   ]
  },
  {
   "cell_type": "code",
   "execution_count": null,
   "metadata": {},
   "outputs": [],
   "source": [
    "short_copper = copper.loc[1951:1957].COPPERPRICE\n",
    "short_alum = copper.loc[1951:1957].ALUMPRICE\n",
    "print(short_copper.cov(short_alum))\n",
    "print(short_copper.corr(short_alum))"
   ]
  },
  {
   "cell_type": "markdown",
   "metadata": {},
   "source": [
    "For more detail on covariance and correlation here is a nice description: [Correlation and Covariance](https://towardsdatascience.com/let-us-understand-the-correlation-matrix-and-covariance-matrix-d42e6b643c22)."
   ]
  },
  {
   "cell_type": "markdown",
   "metadata": {},
   "source": [
    "## Appendix\n",
    "Code for some of the charts"
   ]
  },
  {
   "cell_type": "code",
   "execution_count": null,
   "metadata": {
    "jupyter": {
     "source_hidden": true
    }
   },
   "outputs": [],
   "source": [
    "# How did we make this chart?\n",
    "from scipy.stats import norm\n",
    "\n",
    "# numpy's randn function generates data that is \"normally\" distributed.\n",
    "x = np.linspace(norm.ppf(0.01),\n",
    "                norm.ppf(0.99), 100)\n",
    "\n",
    "\n",
    "plt.plot(x, norm.pdf(x), 'r-', label='Normal Distribution')\n",
    "plt.title(\"A Normal Distribution\")\n",
    "plt.show()"
   ]
  },
  {
   "cell_type": "code",
   "execution_count": null,
   "metadata": {},
   "outputs": [],
   "source": []
  }
 ],
 "metadata": {
  "kernelspec": {
   "display_name": "Python 3",
   "language": "python",
   "name": "python3"
  },
  "language_info": {
   "codemirror_mode": {
    "name": "ipython",
    "version": 3
   },
   "file_extension": ".py",
   "mimetype": "text/x-python",
   "name": "python",
   "nbconvert_exporter": "python",
   "pygments_lexer": "ipython3",
   "version": "3.8.1"
  }
 },
 "nbformat": 4,
 "nbformat_minor": 4
}
